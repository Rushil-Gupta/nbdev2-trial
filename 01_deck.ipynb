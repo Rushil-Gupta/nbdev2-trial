{
 "cells": [
  {
   "cell_type": "code",
   "execution_count": null,
   "metadata": {},
   "outputs": [],
   "source": [
    "#| default_exp deck"
   ]
  },
  {
   "cell_type": "markdown",
   "metadata": {},
   "source": [
    "# deck\n",
    "\n",
    "> A deck of playing cards"
   ]
  },
  {
   "cell_type": "code",
   "execution_count": null,
   "metadata": {},
   "outputs": [],
   "source": [
    "#| hide\n",
    "from nbdev.showdoc import *\n",
    "from fastcore.test import *"
   ]
  },
  {
   "cell_type": "code",
   "execution_count": null,
   "metadata": {},
   "outputs": [],
   "source": [
    "#| export\n",
    "from nbdev2_trial.card import *\n",
    "from fastcore.utils import *"
   ]
  },
  {
   "cell_type": "code",
   "execution_count": null,
   "metadata": {},
   "outputs": [],
   "source": [
    "#| export\n",
    "class Deck:\n",
    "    \"A deck of 52 cards not including jokers\"\n",
    "    def __init__(self):\n",
    "        self.cards = [Card(s,r) for s in range(4) for r in range(1,14)]\n",
    "    def __str__(self):\n",
    "        return '; '.join(map(str, self.cards))\n",
    "    def __len__(self):\n",
    "        return len(self.cards)\n",
    "    def __contains__(self,card):\n",
    "        return card in self.cards\n",
    "    __repr__=__str__ "
   ]
  },
  {
   "cell_type": "markdown",
   "metadata": {},
   "source": [
    "When we initially create a deck, all the cards will be present"
   ]
  },
  {
   "cell_type": "code",
   "execution_count": null,
   "metadata": {},
   "outputs": [
    {
     "data": {
      "text/plain": [
       "A of spade; 2 of spade; 3 of spade; 4 of spade; 5 of spade; 6 of spade; 7 of spade; 8 of spade; 9 of spade; 10 of spade; J of spade; Q of spade; K of spade; A of hearts; 2 of hearts; 3 of hearts; 4 of hearts; 5 of hearts; 6 of hearts; 7 of hearts; 8 of hearts; 9 of hearts; 10 of hearts; J of hearts; Q of hearts; K of hearts; A of clubs; 2 of clubs; 3 of clubs; 4 of clubs; 5 of clubs; 6 of clubs; 7 of clubs; 8 of clubs; 9 of clubs; 10 of clubs; J of clubs; Q of clubs; K of clubs; A of diamond; 2 of diamond; 3 of diamond; 4 of diamond; 5 of diamond; 6 of diamond; 7 of diamond; 8 of diamond; 9 of diamond; 10 of diamond; J of diamond; Q of diamond; K of diamond"
      ]
     },
     "execution_count": null,
     "metadata": {},
     "output_type": "execute_result"
    }
   ],
   "source": [
    "deck = Deck()\n",
    "deck"
   ]
  },
  {
   "cell_type": "markdown",
   "metadata": {},
   "source": [
    "That is 52 cards"
   ]
  },
  {
   "cell_type": "code",
   "execution_count": null,
   "metadata": {},
   "outputs": [],
   "source": [
    "test_eq(len(deck),52)"
   ]
  },
  {
   "cell_type": "code",
   "execution_count": null,
   "metadata": {},
   "outputs": [],
   "source": [
    "#| export\n",
    "@patch\n",
    "def pop(self:Deck, \n",
    "        idx:int=-1): #The index of the card to remove, defaulting to the last one\n",
    "    \"Remove one card from the deck\"\n",
    "    return self.cards.pop(idx)"
   ]
  },
  {
   "cell_type": "code",
   "execution_count": null,
   "metadata": {},
   "outputs": [],
   "source": [
    "deck = Deck()\n",
    "test_eq(deck.pop(), Card(3,13))"
   ]
  },
  {
   "cell_type": "code",
   "execution_count": null,
   "metadata": {},
   "outputs": [],
   "source": []
  }
 ],
 "metadata": {
  "kernelspec": {
   "display_name": "Python 3 (ipykernel)",
   "language": "python",
   "name": "python3"
  }
 },
 "nbformat": 4,
 "nbformat_minor": 4
}
